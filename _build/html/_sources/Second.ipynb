{
 "cells": [
  {
   "cell_type": "markdown",
   "id": "b3c0062f-f3f9-4c19-9639-bae18e04e0ca",
   "metadata": {},
   "source": [
    "# Analysis of Relationship Between Sales and Income Data"
   ]
  },
  {
   "cell_type": "markdown",
   "id": "9f3fd499-c84c-4cc2-b01b-0549cd0b7f78",
   "metadata": {},
   "source": [
    "In this NoteBook, we will be analyzing the relationship between sales of tobacco and median income in each state in the years 2013, 2014, 2016, 2017, 2018, and 2019. We omitted the year 2015 because the original data source U.S._Chronic_Disease_Indicators__Tobacco.csv lacks the average sales data we need for analysis. We first restructured the average sales and the median income data into our desired data frame and displayed them. We then plot 6 choropleth graphs for average sales in each state in the years of 2013 to 2019 (excluding 2015), and 7 choropleth graphs for median income in each state in the years of 2013 to 2019. We put them into the outputs folder of the project. Finally, we compared the graphs that we generated, analyze them, and drew a conclusion from the graphs. "
   ]
  },
  {
   "cell_type": "code",
   "execution_count": 6,
   "id": "7281ddc3-8169-49de-8dd4-70cbc798e697",
   "metadata": {},
   "outputs": [],
   "source": [
    "import plotly.express as px\n",
    "from project_tools.dataformat import *"
   ]
  },
  {
   "cell_type": "markdown",
   "id": "f88b2f16-bc53-4508-b26c-d08ed9725dcd",
   "metadata": {
    "user_expressions": []
   },
   "source": [
    "## Loading and Processing Data"
   ]
  },
  {
   "cell_type": "markdown",
   "id": "8a5fba00-d489-43d8-ab21-824d14e14577",
   "metadata": {
    "user_expressions": []
   },
   "source": [
    "### Average Sales Data"
   ]
  },
  {
   "cell_type": "code",
   "execution_count": 7,
   "id": "8fbf8ae5-4044-4593-8174-eea65501a5e7",
   "metadata": {},
   "outputs": [
    {
     "data": {
      "text/html": [
       "<div>\n",
       "<style scoped>\n",
       "    .dataframe tbody tr th:only-of-type {\n",
       "        vertical-align: middle;\n",
       "    }\n",
       "\n",
       "    .dataframe tbody tr th {\n",
       "        vertical-align: top;\n",
       "    }\n",
       "\n",
       "    .dataframe thead th {\n",
       "        text-align: right;\n",
       "    }\n",
       "</style>\n",
       "<table border=\"1\" class=\"dataframe\">\n",
       "  <thead>\n",
       "    <tr style=\"text-align: right;\">\n",
       "      <th></th>\n",
       "      <th>LocationDesc</th>\n",
       "      <th>LocationAbbr</th>\n",
       "      <th>DataValueUnit</th>\n",
       "      <th>2013</th>\n",
       "      <th>2014</th>\n",
       "      <th>2016</th>\n",
       "      <th>2017</th>\n",
       "      <th>2018</th>\n",
       "      <th>2019</th>\n",
       "    </tr>\n",
       "  </thead>\n",
       "  <tbody>\n",
       "    <tr>\n",
       "      <th>0</th>\n",
       "      <td>Alabama</td>\n",
       "      <td>AL</td>\n",
       "      <td>pack sales per capita</td>\n",
       "      <td>64.6</td>\n",
       "      <td>61.7</td>\n",
       "      <td>60.1</td>\n",
       "      <td>58.1</td>\n",
       "      <td>54.7</td>\n",
       "      <td>53.1</td>\n",
       "    </tr>\n",
       "    <tr>\n",
       "      <th>1</th>\n",
       "      <td>Alaska</td>\n",
       "      <td>AK</td>\n",
       "      <td>pack sales per capita</td>\n",
       "      <td>39</td>\n",
       "      <td>37.2</td>\n",
       "      <td>35.6</td>\n",
       "      <td>32.9</td>\n",
       "      <td>31.1</td>\n",
       "      <td>30.4</td>\n",
       "    </tr>\n",
       "    <tr>\n",
       "      <th>2</th>\n",
       "      <td>Arizona</td>\n",
       "      <td>AZ</td>\n",
       "      <td>pack sales per capita</td>\n",
       "      <td>24.4</td>\n",
       "      <td>23</td>\n",
       "      <td>23.1</td>\n",
       "      <td>22.5</td>\n",
       "      <td>21.8</td>\n",
       "      <td>20.7</td>\n",
       "    </tr>\n",
       "    <tr>\n",
       "      <th>3</th>\n",
       "      <td>Arkansas</td>\n",
       "      <td>AR</td>\n",
       "      <td>pack sales per capita</td>\n",
       "      <td>57.5</td>\n",
       "      <td>54.4</td>\n",
       "      <td>54.2</td>\n",
       "      <td>52.4</td>\n",
       "      <td>50.2</td>\n",
       "      <td>47.6</td>\n",
       "    </tr>\n",
       "    <tr>\n",
       "      <th>4</th>\n",
       "      <td>California</td>\n",
       "      <td>CA</td>\n",
       "      <td>pack sales per capita</td>\n",
       "      <td>23.9</td>\n",
       "      <td>22.7</td>\n",
       "      <td>22</td>\n",
       "      <td>20.5</td>\n",
       "      <td>16.6</td>\n",
       "      <td>15.8</td>\n",
       "    </tr>\n",
       "  </tbody>\n",
       "</table>\n",
       "</div>"
      ],
      "text/plain": [
       "  LocationDesc LocationAbbr          DataValueUnit  2013  2014  2016  2017  \\\n",
       "0      Alabama           AL  pack sales per capita  64.6  61.7  60.1  58.1   \n",
       "1       Alaska           AK  pack sales per capita    39  37.2  35.6  32.9   \n",
       "2      Arizona           AZ  pack sales per capita  24.4    23  23.1  22.5   \n",
       "3     Arkansas           AR  pack sales per capita  57.5  54.4  54.2  52.4   \n",
       "4   California           CA  pack sales per capita  23.9  22.7    22  20.5   \n",
       "\n",
       "   2018  2019  \n",
       "0  54.7  53.1  \n",
       "1  31.1  30.4  \n",
       "2  21.8  20.7  \n",
       "3  50.2  47.6  \n",
       "4  16.6  15.8  "
      ]
     },
     "execution_count": 7,
     "metadata": {},
     "output_type": "execute_result"
    }
   ],
   "source": [
    "# import cleaned-up tobacco average sales data\n",
    "states_sales = tobacco_data_import()\n",
    "\n",
    "# change format of data\n",
    "sub = states_sales.groupby(['LocationDesc', 'LocationAbbr', 'DataValueUnit']).apply(lambda row: pd.Series({\"2013\": row.DataValue[row.YearStart == 2013].values[0],\n",
    "                                                                   \"2014\": row.DataValue[row.YearStart == 2014].values[0],\n",
    "                                                                   # ignoring 2015 because missing data in the original source\n",
    "                                                                   \"2016\": row.DataValue[row.YearStart == 2016].values[0],\n",
    "                                                                   \"2017\": row.DataValue[row.YearStart == 2017].values[0],\n",
    "                                                                   \"2018\": row.DataValue[row.YearStart == 2018].values[0],\n",
    "                                                                    \"2019\": row.DataValue[row.YearStart == 2019].values[0]}))\n",
    "\n",
    "sub =sub.reset_index(['LocationDesc', 'LocationAbbr', 'DataValueUnit'], drop=False)\n",
    "sub.head()"
   ]
  },
  {
   "cell_type": "markdown",
   "id": "53106337-6aa2-4154-9fa0-36fec1973a18",
   "metadata": {},
   "source": [
    "### Median Income Data"
   ]
  },
  {
   "cell_type": "code",
   "execution_count": null,
   "id": "691e2c1c-025e-4013-a08e-3e11d0457803",
   "metadata": {
    "tags": []
   },
   "outputs": [],
   "source": [
    "median_income = income_data_import()"
   ]
  },
  {
   "cell_type": "markdown",
   "id": "ab04cb8b-445c-430f-a311-6d3023ab5176",
   "metadata": {},
   "source": [
    "## Map plot for avg sales per state from 2013 - 2019 (6 graphs; 2015 omitted)"
   ]
  },
  {
   "cell_type": "code",
   "execution_count": null,
   "id": "d321d812-fd6c-4a46-851a-161299f26b4e",
   "metadata": {
    "tags": []
   },
   "outputs": [],
   "source": [
    "# avg sales (sales per capita) for each year (6 in total)\n",
    "\n",
    "# Year 2015 omitted\n",
    "Years = [2013, 2014, 2016, 2017, 2018, 2019]\n",
    "year = 0\n",
    "\n",
    "# plotting 6 graphs in 2013, 2014, 2016, 2017, 2018, and 2019\n",
    "for index in range(3, 9):\n",
    "    \n",
    "    ddf = sub.iloc[:, index].astype(float)\n",
    "    \n",
    "    fig =  px.choropleth(sub,\n",
    "                         locations=\"LocationAbbr\",\n",
    "                         hover_name=\"LocationDesc\",\n",
    "                         color= ddf.values,\n",
    "                         locationmode='USA-states',\n",
    "                         color_continuous_scale='greens',\n",
    "                         range_color = (80000, 40000))\n",
    "\n",
    "    fig.update_layout(title_text = f\"Sales per capita in {Years[year]}\", geo_scope='usa')\n",
    "\n",
    "    fig.write_html(f\"output/avgSales{Years[year]}.html\")\n",
    "    year += 1\n",
    "    fig.show()"
   ]
  },
  {
   "cell_type": "markdown",
   "id": "e40e2462-da8e-4c6d-bf37-71635b7c1fe6",
   "metadata": {},
   "source": [
    "## Map plot for median income from 2013 - 2019 (7 graphs)\n"
   ]
  },
  {
   "cell_type": "code",
   "execution_count": null,
   "id": "234babfa-7c80-4fdb-919a-5435401adadd",
   "metadata": {
    "tags": []
   },
   "outputs": [],
   "source": [
    "# median income graph for each year (6 in total)\n",
    "Years1 = [2013, 2014, 2015, 2016, 2017, 2018, 2019]\n",
    "year = 0\n",
    "\n",
    "# plotting 7 graphs in 2013 to 2019\n",
    "for index in reversed(range(1, 8)):\n",
    "    ddf = median_income.iloc[:, index].astype(float)\n",
    "\n",
    "    fig = px.choropleth(median_income,\n",
    "                         locations=\"state\",\n",
    "                         hover_name=\"Location\",\n",
    "                         color=ddf.values,\n",
    "                         locationmode='USA-states',\n",
    "                         color_continuous_scale='reds',\n",
    "                         range_color = (80000, 40000))\n",
    "\n",
    "    fig.update_layout(title_text = f\"Median Income in {Years1[year]}\", geo_scope='usa')\n",
    "\n",
    "    fig.write_html(f\"output/medianIncome{Years1[year]}.html\")\n",
    "    year += 1\n",
    "    fig.show()"
   ]
  },
  {
   "cell_type": "markdown",
   "id": "31ad50c1-9db7-4134-a4de-8cbecfe3e28a",
   "metadata": {},
   "source": [
    "## Analysis\n",
    "As we can see from the 6 graphs of average sales, the allocation of which states have the most tobacco pack sales per capita hasn't changed much, with the state of New Hampshire, Kentucky, West Virginia, and Missouri having relatively the most packs sold in the years between 2013 and 2019 (excluding 2015). However, in the Median income graphs we see that the states with the highest median income are usually New Hampshire, Massachusetts, Connecticut, New Jersey, and Maryland. Just by looking at these data, it seems like there's no direct relationship between the average amount of pack sold and median income in that state. A higher median income of a state doesn't necessarily correlate with more packs of tobacco sold, and same with the opposite. We can see that the states with least amount of packs sold (New York, Utah, Washington, and California) are not the ones with the lowest median income (Mississippi, New Mexico, Louisiana, Arkansas, West Virginia, etc).\n",
    "Therefore, we failed to find any significant or meaningful relationship between the sales and income in each state just by visualizing the graphs and understanding which states has higher sales per capita and which states has higher median income. And thus we went one step further and conducted a regression analysis on the two data in the next Notebook."
   ]
  },
  {
   "cell_type": "code",
   "execution_count": null,
   "id": "fec6ddd6-d897-43b5-a0b4-1082a46391c8",
   "metadata": {},
   "outputs": [],
   "source": [
    "putHTML(year = 2013, avg_sales = True)"
   ]
  }
 ],
 "metadata": {
  "kernelspec": {
   "display_name": "Python 3 (ipykernel)",
   "language": "python",
   "name": "python3"
  },
  "language_info": {
   "codemirror_mode": {
    "name": "ipython",
    "version": 3
   },
   "file_extension": ".py",
   "mimetype": "text/x-python",
   "name": "python",
   "nbconvert_exporter": "python",
   "pygments_lexer": "ipython3",
   "version": "3.10.8"
  }
 },
 "nbformat": 4,
 "nbformat_minor": 5
}
